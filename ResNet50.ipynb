{
  "cells": [
    {
      "cell_type": "markdown",
      "source": [
        "Mount the drive that contains the data.\n"
      ],
      "metadata": {
        "id": "FTAv6w5i9USn"
      }
    },
    {
      "cell_type": "code",
      "execution_count": null,
      "metadata": {
        "id": "JopZxRiVHq1q"
      },
      "outputs": [],
      "source": [
        "from google.colab import drive\n",
        "drive.mount('/content/drive')"
      ]
    },
    {
      "cell_type": "markdown",
      "source": [
        "Import and load all the required packages."
      ],
      "metadata": {
        "id": "0viQDtQ29s0X"
      }
    },
    {
      "cell_type": "code",
      "execution_count": 2,
      "metadata": {
        "id": "ofyIok7jH-Ws"
      },
      "outputs": [],
      "source": [
        "from tensorflow.keras.models import Model, load_model\n",
        "from tensorflow.keras.applications.resnet50 import ResNet50\n",
        "from keras.preprocessing import image\n",
        "from tensorflow.keras.preprocessing.image import ImageDataGenerator\n",
        "from tensorflow.keras.models import Sequential\n",
        "import numpy as np\n",
        "import pandas as pd\n",
        "import matplotlib.pyplot as plt\n",
        "import tensorflow as tf\n",
        "from tensorflow.keras import Sequential\n",
        "from tensorflow.keras.layers import Conv2D, Flatten, Dense, Input, Lambda, Flatten\n",
        "from sklearn.model_selection import train_test_split\n",
        "from sklearn.metrics import confusion_matrix, classification_report\n",
        "import seaborn as sns\n",
        "import torch\n",
        "import os"
      ]
    },
    {
      "cell_type": "markdown",
      "source": [
        "Resize all the images to 224x224 and add a preprocessing layer\n"
      ],
      "metadata": {
        "id": "VYPVpXQg9txr"
      }
    },
    {
      "cell_type": "code",
      "execution_count": null,
      "metadata": {
        "id": "UMyG9qaHH-kl"
      },
      "outputs": [],
      "source": [
        "IMAGE_SIZE = [224, 224]\n",
        "\n",
        "resnet = ResNet50(input_shape=IMAGE_SIZE + [3], weights='imagenet', include_top=False)\n",
        "\n",
        "for layer in resnet.layers:\n",
        "    layer.trainable = False\n"
      ]
    },
    {
      "cell_type": "markdown",
      "source": [
        "Specify the path to the file containing the data.\n",
        "Split the available data into training data, testing data and validation data and reset the index."
      ],
      "metadata": {
        "id": "GOVq_b7X9vlu"
      }
    },
    {
      "cell_type": "code",
      "execution_count": 4,
      "metadata": {
        "id": "JtSYmOIOINnA"
      },
      "outputs": [],
      "source": [
        "path = \"/content/drive/MyDrive/Mixed Images\"\n",
        "filenames = os.listdir(path)\n",
        "\n",
        "df=pd.DataFrame({'filename':filenames})\n",
        "df[\"category\"] = df.apply(lambda x: x['filename'].split('_')[0], axis=1)\n",
        "\n",
        "temp1 = df[df.category=='Undamaged']\n",
        "temp2 = df[df.category=='Damaged']\n",
        "df = pd.concat([temp1, temp2],ignore_index=True, axis = 0)\n",
        "# df.category.value_counts()\n",
        "\n",
        "train_df, validate_df = train_test_split(df, test_size=0.30, random_state=42, stratify=df[\"category\"])\n",
        "validate_df, test_df = train_test_split(validate_df, test_size=0.5, random_state=42, stratify=validate_df[\"category\"])\n",
        "\n",
        "train_df = train_df.reset_index(drop=True)\n",
        "validate_df = validate_df.reset_index(drop=True)\n",
        "test_df = test_df.reset_index(drop=True)"
      ]
    },
    {
      "cell_type": "code",
      "execution_count": null,
      "metadata": {
        "id": "9qamvoLWIPEC"
      },
      "outputs": [],
      "source": [
        "print(train_df.category.value_counts())\n",
        "print(validate_df.category.value_counts())\n",
        "print(test_df.category.value_counts())"
      ]
    },
    {
      "cell_type": "markdown",
      "source": [
        "Image augmentation using the Image data generator function."
      ],
      "metadata": {
        "id": "bxG1lTOl9xig"
      }
    },
    {
      "cell_type": "code",
      "execution_count": null,
      "metadata": {
        "id": "myP6tltVJNg3"
      },
      "outputs": [],
      "source": [
        "train_datagen = ImageDataGenerator(rotation_range=15,\n",
        "                                   rescale=1./255,\n",
        "                                   shear_range=0.1,\n",
        "                                   zoom_range=0.2,\n",
        "                                   horizontal_flip=True,\n",
        "                                   vertical_flip = True,\n",
        "                                   width_shift_range=0.1,\n",
        "                                   height_shift_range=0.1)\n",
        "\n",
        "train_set = train_datagen.flow_from_dataframe(train_df,path,x_col='filename',\n",
        "                                              y_col='category', target_size=(224, 224),\n",
        "                                              class_mode='categorical',batch_size=32)\n",
        "\n",
        "validation_datagen = ImageDataGenerator(rescale=1./255)\n",
        "\n",
        "validation_set = validation_datagen.flow_from_dataframe(validate_df,path,x_col='filename',\n",
        "                                                        y_col='category',target_size=(224, 224),\n",
        "                                                        class_mode='categorical',batch_size=32)\n",
        "\n",
        "test_datagen = ImageDataGenerator(rescale=1./255)\n",
        "\n",
        "test_set = test_datagen.flow_from_dataframe(test_df,path,x_col='filename',\n",
        "                                            y_col='category',target_size=(224, 224),\n",
        "                                            class_mode='categorical',batch_size=32, shuffle=False)"
      ]
    },
    {
      "cell_type": "code",
      "execution_count": null,
      "metadata": {
        "id": "e36XlHbUJPR1"
      },
      "outputs": [],
      "source": [
        "x = Flatten()(resnet.output)\n",
        "\n",
        "prediction = Dense(len(train_df.category.value_counts()), activation='softmax')(x)\n",
        "\n",
        "model = Model(inputs=resnet.input, outputs=prediction)\n",
        "\n",
        "model.summary()"
      ]
    },
    {
      "cell_type": "markdown",
      "source": [
        "Fit the model and use early stopping callback to stop training once the model performance stops improving."
      ],
      "metadata": {
        "id": "btAgp2IUDJmR"
      }
    },
    {
      "cell_type": "code",
      "execution_count": null,
      "metadata": {
        "id": "Mps9PKMAJWLo"
      },
      "outputs": [],
      "source": [
        "model.compile(loss='categorical_crossentropy', optimizer=tf.keras.optimizers.Adam(learning_rate=1e-05), metrics=['accuracy'])\n",
        "\n",
        "callback = tf.keras.callbacks.EarlyStopping(monitor='val_loss', mode='min', patience=5, restore_best_weights=True)\n",
        "\n",
        "r = model.fit(train_set,\n",
        "              validation_data=validation_set,\n",
        "              epochs=15,\n",
        "              steps_per_epoch=len(train_set),\n",
        "              validation_steps=len(validation_set),\n",
        "              callbacks=[callback])"
      ]
    },
    {
      "cell_type": "markdown",
      "source": [
        "Plot loss and accuracy graphs to visualize the performance of the model."
      ],
      "metadata": {
        "id": "AThFVu2IDQ7s"
      }
    },
    {
      "cell_type": "code",
      "execution_count": null,
      "metadata": {
        "id": "YgTkW9DU_6KB"
      },
      "outputs": [],
      "source": [
        "plt.plot(r.history['loss'], label='train loss')\n",
        "plt.plot(r.history['val_loss'], label='val loss')\n",
        "plt.legend()\n",
        "plt.savefig('/content/drive/MyDrive/RESNET50_ValLoss_2.png')\n",
        "plt.show()"
      ]
    },
    {
      "cell_type": "code",
      "execution_count": null,
      "metadata": {
        "id": "XHnyT4o7AMGd"
      },
      "outputs": [],
      "source": [
        "plt.plot(r.history['accuracy'], label='train acc')\n",
        "plt.plot(r.history['val_accuracy'], label='val acc')\n",
        "plt.legend()\n",
        "plt.savefig('/content/drive/MyDrive/RESNET50_ValACC_2.png')\n",
        "plt.show()"
      ]
    },
    {
      "cell_type": "markdown",
      "source": [
        "Save the trained model on the drive."
      ],
      "metadata": {
        "id": "Acajc9clDVJW"
      }
    },
    {
      "cell_type": "code",
      "execution_count": null,
      "metadata": {
        "id": "_gZTyvrhARCI"
      },
      "outputs": [],
      "source": [
        "model.save('/content/drive/MyDrive/RESNET50_2.h5')"
      ]
    },
    {
      "cell_type": "code",
      "execution_count": null,
      "metadata": {
        "id": "2qmqhvmVAWcA"
      },
      "outputs": [],
      "source": [
        "train_set.class_indices.items()"
      ]
    },
    {
      "cell_type": "markdown",
      "source": [
        "Load the saved model and make predictions on the test dataset."
      ],
      "metadata": {
        "id": "wlofHYU5DaLT"
      }
    },
    {
      "cell_type": "code",
      "execution_count": null,
      "metadata": {
        "id": "S7NCmfPjAZ_d"
      },
      "outputs": [],
      "source": [
        "model = tf.keras.models.load_model('/content/drive/MyDrive/RESNET50_2.h5')\n",
        "test_set.reset()\n",
        "pred = model.predict(test_set)\n",
        "test_df[\"pred\"] = np.argmax(pred, axis=1)\n",
        "test_df[\"pred\"] = test_df[\"pred\"].replace({0:'Damaged',1:'Undamaged'})\n",
        "test_df.tail()"
      ]
    },
    {
      "cell_type": "code",
      "execution_count": null,
      "metadata": {
        "id": "72KeSE1yB-xn"
      },
      "outputs": [],
      "source": [
        "test_df.to_csv(\"/content/drive/MyDrive/test_df.csv\")"
      ]
    },
    {
      "cell_type": "code",
      "execution_count": null,
      "metadata": {
        "id": "0Dyy8ZMxCHH0"
      },
      "outputs": [],
      "source": [
        "model.evaluate(test_set, verbose=2)"
      ]
    },
    {
      "cell_type": "markdown",
      "source": [
        "Plot a confusion matrix to understand the model predictions."
      ],
      "metadata": {
        "id": "Ghw1tHCQDivf"
      }
    },
    {
      "cell_type": "code",
      "execution_count": null,
      "metadata": {
        "id": "kZIA9E56C_QH"
      },
      "outputs": [],
      "source": [
        "cm = confusion_matrix(test_df['category'], test_df['pred'])\n",
        "sns.heatmap(cm, annot=True)"
      ]
    },
    {
      "cell_type": "code",
      "execution_count": null,
      "metadata": {
        "id": "Qj4nABt3DEk3"
      },
      "outputs": [],
      "source": [
        "target_names = [ 'undamaged', 'damaged' ]\n",
        "classification_report(test_df['category'], test_df['pred'], target_names= target_names)"
      ]
    },
    {
      "cell_type": "markdown",
      "source": [
        "Visualise the predictions made by the model."
      ],
      "metadata": {
        "id": "hTp6maKpDsZx"
      }
    },
    {
      "cell_type": "code",
      "execution_count": null,
      "metadata": {
        "id": "n44j7KwnDWZL"
      },
      "outputs": [],
      "source": [
        "from keras.preprocessing import image\n",
        "\n",
        "sample_test = test_df.sample(n=35).reset_index(drop=True)\n",
        "plt.figure(figsize=(20, 20))\n",
        "for index, row in sample_test.iterrows():\n",
        "    filename = row['filename']\n",
        "    pred = row['pred']\n",
        "    img = image.load_img(path + \"/\" + filename, target_size=(224,224))\n",
        "    plt.subplot(5, 7, index+1)\n",
        "    plt.imshow(img)\n",
        "    plt.xlabel(filename.split(' ')[0] + '(' + \"{}\".format(pred) + ')' )\n",
        "plt.tight_layout()\n",
        "plt.show()"
      ]
    },
    {
      "cell_type": "markdown",
      "source": [
        "Example of Image augmentation."
      ],
      "metadata": {
        "id": "O91J4xHEEbex"
      }
    },
    {
      "cell_type": "code",
      "execution_count": null,
      "metadata": {
        "id": "QpSb5tMGDq5p"
      },
      "outputs": [],
      "source": [
        "# Image Augmentation\n",
        "example_df = train_df.sample(n=1).reset_index(drop=True)\n",
        "example_set = train_datagen.flow_from_dataframe(\n",
        "    example_df, \n",
        "    path,\n",
        "    x_col='filename',\n",
        "    y_col='category',\n",
        "    target_size=(224,224),\n",
        "    class_mode='categorical'\n",
        ")\n",
        "\n",
        "plt.figure(figsize=(12, 12))\n",
        "for i in range(0, 15):\n",
        "    plt.subplot(5, 3, i+1)\n",
        "    for X_batch, Y_batch in example_set:\n",
        "        image = X_batch[0]\n",
        "        plt.imshow(image)\n",
        "        break\n",
        "plt.tight_layout()\n",
        "plt.show()"
      ]
    }
  ],
  "metadata": {
    "colab": {
      "name": "ResNet50-1.ipynb",
      "provenance": []
    },
    "kernelspec": {
      "display_name": "Python 3",
      "name": "python3"
    },
    "language_info": {
      "name": "python"
    }
  },
  "nbformat": 4,
  "nbformat_minor": 0
}